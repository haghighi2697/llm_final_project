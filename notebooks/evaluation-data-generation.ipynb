{
 "cells": [
  {
   "cell_type": "code",
   "execution_count": 2,
   "id": "f35b1666-5393-458a-b747-177c1a1525ca",
   "metadata": {},
   "outputs": [],
   "source": [
    "import os\n",
    "from dotenv import load_dotenv\n",
    "import openai\n",
    "from openai import OpenAI\n",
    "import json\n",
    "import fitz\n",
    "import pandas as pd"
   ]
  },
  {
   "cell_type": "code",
   "execution_count": 3,
   "id": "3986f1f8-a27d-4648-8c66-9bfc97d5ec74",
   "metadata": {},
   "outputs": [
    {
     "data": {
      "text/plain": [
       "True"
      ]
     },
     "execution_count": 3,
     "metadata": {},
     "output_type": "execute_result"
    }
   ],
   "source": [
    "load_dotenv()"
   ]
  },
  {
   "cell_type": "code",
   "execution_count": 4,
   "id": "bef16223-3d41-445f-924a-fd441c4280e4",
   "metadata": {},
   "outputs": [],
   "source": [
    "client = OpenAI(api_key=os.getenv('OPEN_API_KEY'))"
   ]
  },
  {
   "cell_type": "code",
   "execution_count": 5,
   "id": "aab1db9e-552e-4443-bbf2-4957433396eb",
   "metadata": {},
   "outputs": [
    {
     "data": {
      "text/plain": [
       "\"It's never too late to get lifeguard certification, as there are no specific upper age limits for becoming a lifeguard, provided you meet the necessary physical and skill requirements. Most certification programs, like those offered by the American Red Cross or YMCA, have minimum age requirements (usually around 15 or 16 years old), but they welcome students of all ages beyond that.\\n\\nIf you're interested in becoming a certified lifeguard, check for local classes and certification courses in your area. These courses are typically offered throughout the year, although the schedule can vary based on location and demand. As long as you can pass the physical tests and complete the training, you can become certified.\""
      ]
     },
     "execution_count": 5,
     "metadata": {},
     "output_type": "execute_result"
    }
   ],
   "source": [
    "response = client.chat.completions.create(\n",
    " model = 'gpt-4o',\n",
    " messages = [{\"role\": \"user\", \"content\": \"is it too late to get life guard certification?\"}]\n",
    ")\n",
    "\n",
    "response.choices[0].message.content"
   ]
  },
  {
   "cell_type": "markdown",
   "id": "210e7c6a-c25c-4953-9658-40bbbec0d20c",
   "metadata": {},
   "source": [
    "#### Load the policy"
   ]
  },
  {
   "cell_type": "code",
   "execution_count": 6,
   "id": "5babe3a1-3d8b-428a-92a8-5fc2285fc494",
   "metadata": {},
   "outputs": [],
   "source": [
    "\n",
    "# Open the PDF file\n",
    "pdf_path = \"Home_Insurance_Policy.pdf\"\n",
    "doc = fitz.open(pdf_path)\n",
    "\n",
    "# Extract text from all pages\n",
    "documents = []\n",
    "for page_num in range(doc.page_count):\n",
    "    page = doc.load_page(page_num)  # Load each page\n",
    "    text = page.get_text()  # Extract text from the page\n",
    "    documents.append(text)"
   ]
  },
  {
   "cell_type": "code",
   "execution_count": 7,
   "id": "e76310f7-cd87-41a7-8f52-fc1157597dd6",
   "metadata": {},
   "outputs": [],
   "source": [
    "text = ' '.join(documents)\n",
    "\n",
    "insuranc_policy = {\n",
    "    \"text\": text\n",
    "}\n"
   ]
  },
  {
   "cell_type": "code",
   "execution_count": 8,
   "id": "313f0798-53be-4999-b236-09536e8d4cd4",
   "metadata": {},
   "outputs": [],
   "source": [
    "prompt_template = \"\"\"\n",
    "You are emulating a homeowner who is purchasing property insurance.\n",
    "Formulate 5 questions that this homeowner might ask the insurance agent about the property insurance.\n",
    "The questions should be specific to the provided document and relevant to the content.\n",
    "Ensure that each question is complete, specific, and not too short.\n",
    "Use the text provided below to generate both the questions and their corresponding answers.\n",
    "\n",
    "Document content:\n",
    "\n",
    "{text}\n",
    "\n",
    "Please provide a well-formed and valid JSON output, without any additional formatting such as code blocks or extra characters. The output should contain the questions as keys and the corresponding answers as values, as shown in the format below:\n",
    "\n",
    "{{\n",
    "  \"questions\": [\n",
    "    {{\"question\": \"question1\", \"answer\": \"answer1\"}},\n",
    "    {{\"question\": \"question2\", \"answer\": \"answer2\"}},\n",
    "    {{\"question\": \"question3\", \"answer\": \"answer3\"}},\n",
    "    {{\"question\": \"question4\", \"answer\": \"answer4\"}},\n",
    "    {{\"question\": \"question5\", \"answer\": \"answer5\"}}\n",
    "  ]\n",
    "}}\n",
    "\"\"\".strip()"
   ]
  },
  {
   "cell_type": "code",
   "execution_count": 9,
   "id": "891ea3e9-b1c8-468d-8fd8-bfa828622272",
   "metadata": {},
   "outputs": [],
   "source": [
    "prompt = prompt_template.format(**insuranc_policy)"
   ]
  },
  {
   "cell_type": "code",
   "execution_count": 11,
   "id": "e6577832-5b66-4587-b428-4c4effed16dd",
   "metadata": {},
   "outputs": [],
   "source": [
    "def llm(prompt):\n",
    "    response = client.chat.completions.create(\n",
    "        model='gpt-4o-mini',\n",
    "        messages=[{\"role\": \"user\", \"content\": prompt}]\n",
    "    )\n",
    "    \n",
    "    return response.choices[0].message.content\n"
   ]
  },
  {
   "cell_type": "code",
   "execution_count": 12,
   "id": "fcdfb901-1444-4d6f-bc82-e1cf38b570ce",
   "metadata": {},
   "outputs": [],
   "source": [
    "questions = llm(prompt)"
   ]
  },
  {
   "cell_type": "code",
   "execution_count": 33,
   "id": "15882a21-958d-499c-b716-d3b68fb40a47",
   "metadata": {},
   "outputs": [],
   "source": [
    "data = (json.loads(questions))['questions']"
   ]
  },
  {
   "cell_type": "code",
   "execution_count": 35,
   "id": "3305ef0a-2c05-442a-8f45-43b3de2ae1f2",
   "metadata": {},
   "outputs": [],
   "source": [
    "prompt_template2 = \"\"\"\n",
    "\n",
    "You are emulating a homeowner who is purchasing property insurance.\n",
    "Formulate 5 questions that this homeowner might ask the insurance agent about the property insurance.\n",
    "The questions should be specific to the provided document and relevant to the content.\n",
    "Ensure that each question is complete, specific, and not too short.\n",
    "Use the text provided below to generate the questions.\n",
    "\n",
    "\n",
    "{text}\n",
    "\n",
    "Please provide a well-formed and valid JSON output, without any additional formatting such as code blocks or extra characters. The output should contain the questions as keys and the corresponding answers as values, as shown in the format below:\n",
    "\n",
    "{{\"question\": [\"question1\", \"question2\", ..., \"question5\"]}}\n",
    "\n",
    "\"\"\".strip()"
   ]
  },
  {
   "cell_type": "code",
   "execution_count": 36,
   "id": "941a0a4d-2fe5-49c3-aa1b-9efa7270294f",
   "metadata": {},
   "outputs": [
    {
     "name": "stdout",
     "output_type": "stream",
     "text": [
      "    id                                           question\n",
      "0    0  What is the maximum coverage amount for Dwelli...\n",
      "1    0  Can you clarify what Other Structures Protecti...\n",
      "2    0  How does Personal Property Protection work, an...\n",
      "3    0  Are there additional coverages or endorsements...\n",
      "4    0  What process do I follow if I need to file a c...\n",
      "5    1  What specific protective devices can qualify m...\n",
      "6    1  Can you explain how my claim history impacts m...\n",
      "7    1  What documentation do I need to provide to con...\n",
      "8    1  Are there any seasonal or geographical factors...\n",
      "9    1  How frequently should I review my policy with ...\n",
      "10   2  What specific actions do I need to take immedi...\n",
      "11   2  How do I properly document the damaged or stol...\n",
      "12   2  Is there a specific time frame within which I ...\n",
      "13   2  What types of documentation would be considere...\n",
      "14   2  What steps does Allstate take to assess the da...\n",
      "15   3  What specific coverage options are included in...\n",
      "16   3  Can you explain how my premiums are calculated...\n",
      "17   3  What steps should I take in the event of a cla...\n",
      "18   3  Are there any additional endorsements or rider...\n",
      "19   3  How does the renewal process work, and will I ...\n",
      "20   4  What methods can I use to access my property i...\n",
      "21   4  If I create an account at myaccount.allstate.c...\n",
      "22   4  Is there a cost associated with requesting a m...\n",
      "23   4  Can I access my policy documents online at any...\n",
      "24   4  If I have trouble accessing my documents onlin...\n"
     ]
    }
   ],
   "source": [
    "# Initialize an empty DataFrame\n",
    "results = pd.DataFrame()\n",
    "\n",
    "for i in range(len(data)):\n",
    "    text_input = f\"Question: {data[i]['question']}\\nAnswer: {data[i]['answer']}\"\n",
    "    # Format the prompt template using the correct 'text' key\n",
    "    prompt = prompt_template2.format(text=text_input)\n",
    "    response = client.chat.completions.create(\n",
    "        model='gpt-4o-mini',\n",
    "        messages=[{\"role\": \"user\", \"content\": prompt}]\n",
    "    )\n",
    "    json_response = response.choices[0].message.content\n",
    "    questions_list = json.loads(json_response)[\"question\"]\n",
    "    \n",
    "    # Convert the list of questions into a DataFrame with an 'id' column\n",
    "    questions_df = pd.DataFrame({\n",
    "        'id': [i] * len(questions_list),\n",
    "        'question': questions_list\n",
    "    })\n",
    "    \n",
    "    # Append the questions to the results DataFrame\n",
    "    results = pd.concat([results, questions_df], ignore_index=True)\n",
    "\n",
    "# Now 'results' contains all the questions with their corresponding 'id'\n",
    "print(results)"
   ]
  },
  {
   "cell_type": "code",
   "execution_count": 39,
   "id": "1916d770-f9ee-46d3-b0ce-840f1996a76a",
   "metadata": {},
   "outputs": [],
   "source": [
    "results.to_csv('ground-truth-data.csv', index=False)"
   ]
  },
  {
   "cell_type": "code",
   "execution_count": null,
   "id": "ed970f63-0bb8-4aef-8674-7358be02e419",
   "metadata": {},
   "outputs": [],
   "source": []
  }
 ],
 "metadata": {
  "kernelspec": {
   "display_name": "Python 3 (ipykernel)",
   "language": "python",
   "name": "python3"
  },
  "language_info": {
   "codemirror_mode": {
    "name": "ipython",
    "version": 3
   },
   "file_extension": ".py",
   "mimetype": "text/x-python",
   "name": "python",
   "nbconvert_exporter": "python",
   "pygments_lexer": "ipython3",
   "version": "3.9.19"
  }
 },
 "nbformat": 4,
 "nbformat_minor": 5
}
