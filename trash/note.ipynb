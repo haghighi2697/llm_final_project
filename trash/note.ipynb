{
 "cells": [
  {
   "cell_type": "code",
   "execution_count": 11,
   "metadata": {
    "vscode": {
     "languageId": "plaintext"
    }
   },
   "outputs": [],
   "source": [
    "import PyPDF2\n",
    "import minsearch\n",
    "import nltk\n",
    "from nltk.tokenize import sent_tokenize"
   ]
  },
  {
   "cell_type": "code",
   "execution_count": 32,
   "metadata": {},
   "outputs": [
    {
     "name": "stderr",
     "output_type": "stream",
     "text": [
      "[nltk_data] Downloading package punkt to\n",
      "[nltk_data]     /Users/monahaghighi/nltk_data...\n",
      "[nltk_data]   Package punkt is already up-to-date!\n"
     ]
    },
    {
     "data": {
      "text/plain": [
       "True"
      ]
     },
     "execution_count": 32,
     "metadata": {},
     "output_type": "execute_result"
    }
   ],
   "source": [
    "import nltk\n",
    "\n",
    "# Remove NLTK's downloaded files to avoid incorrect resources\n",
    "nltk.data.clear_cache()\n",
    "\n",
    "# Ensure that the path is correct\n",
    "nltk.data.path.append('/Users/monahaghighi/nltk_data')\n",
    "\n",
    "# Download the correct punkt resource again\n",
    "nltk.download('punkt')"
   ]
  },
  {
   "cell_type": "code",
   "execution_count": 8,
   "metadata": {},
   "outputs": [],
   "source": [
    "### Step 1: Extract Text from the PDF"
   ]
  },
  {
   "cell_type": "code",
   "execution_count": 33,
   "metadata": {},
   "outputs": [],
   "source": [
    "# Extract text from the PDF\n",
    "def extract_text_from_pdf(pdf_path):\n",
    "    with open(\"Renter's Insurance.pdf\", 'rb') as file:\n",
    "        pdf_reader = PyPDF2.PdfReader(file)\n",
    "        policy_text = \"\"\n",
    "        for page_num in range(len(pdf_reader.pages)):\n",
    "            page = pdf_reader.pages[page_num]\n",
    "            text = page.extract_text()\n",
    "            policy_text += text + \"\\n\"\n",
    "    return policy_text\n",
    "\n",
    "policy_text = extract_text_from_pdf(\"Renter's Insurance.pdf\")"
   ]
  },
  {
   "cell_type": "code",
   "execution_count": 34,
   "metadata": {},
   "outputs": [
    {
     "data": {
      "text/plain": [
       "'CONTINUE TO THE NEXT PAGE\\nFOR A GUIDE TO YOUR\\nRENTERS ENDORSEMENT\\nPACKET40000007H4129197624975000000*000001*\\nLiberty Mutual\\nPO Box 958416\\nLake Mary, FL 32795-9959\\nZohreh Motemanni Kenari\\nNaser Mirzaei Mehmandoust Sofla\\n351 N Post Oak Ln 712\\nHouston TX 77024-5953\\nCONTACT US\\nQuestions About\\nYour Policy\\nBy Phone\\nFor service:\\nMon - Fri 8AM-10PM EST\\nSat 8AM-8PM EST\\nSun 11AM-5PM EST\\nVisit Us Online\\nLibertyMutual.com\\nBy Phone\\n1-800-2CLAIMS\\n(1-800-225-2467)To Report a Claim\\nOnline\\nLibertyMutual.com/Claims\\nSign Up for eService\\nLibertyMutual.com/\\nregister-Pay your bill\\n-Go paperless\\n-View your policy\\n-File or view a claim\\nManage your policy 24/7 atThank you for insuring with Liberty Mutual.\\nThis package contains your updated policy declarations and documents that\\nreflect changes made to your policy.\\n• • Change Name Zohreh Motemanni\\nKenariAdd Inflation Protection\\n•Change Scheduled Property\\nTerritory\\nPlease look over this information and keep it with your insurance documents.\\nBe sure to download our mobile app or visit LibertyMutual.com/register  and\\ncheck out our eService options. eService makes it easy to get information\\nand manage your Liberty Mutual account online whenever you like.\\nIf you have any questions about your coverage, available discounts or\\nproduct offerings, please call us  at .\\nSincerely,\\nYour Liberty Mutual Service Team\\nLearn more about our privacy policy at Libertymutual.com/privacy\\nTHIS IS NOT YOUR RENTERS  INSURANCE BILL. YOU WILL BE BILLED SEPARATELY.  \\nPAGE SECTION\\nPolicy Declarations\\nIncludes important information about your policy, including insurance\\ninformation as well as your discounts and benefits.\\nCoverage Information\\nIncludes important coverage information. Please review this section in\\ndetail to ensure you are fully covered. Contact us with any questions.\\nImportant Notices & Policy Forms\\nThis section includes any notices and policy forms that may change your\\ncoverages.A GUIDE TO YOUR RENTERS ENDORSEMENT  PACKET \\n1\\n1\\n4-10Named Insured:\\n1. Zohreh Motemanni Kenari\\n2. Naser Mirzaei\\nMehmandoust Sofla\\nPolicy Number:\\nPolicy Period:\\nMailing Address:\\n351 N Post Oak Ln 712\\nHouston TX 77024-5953H41-291-976249-75  4  6\\n06/25/2024  to 06/25/2025\\nTHIS IS NOT YOUR RENTERS  INSURANCE BILL. YOU WILL BE BILLED SEPARATELY.  \\nQuestions about your Policy? Report a Claim: Policy Number:\\n1-800-2CLAIMS or\\nLibertyMutual.com/ClaimsCall  H41-291-976249-75  4 6\\nPLEASE REVIEW AND KEEP FOR YOUR RECORDS.ACTION REQUIRED:\\nTotal 12 Month  Premium:   $116.00Policy Declarations\\nReason for your new declarations page: Changes made to your policy\\nPlease refer to the Change Detail  section on page 2 for more information.\\nEffective date of this change: 06/25/2024\\nYour discounts and benefits have been applied. Includes state sales tax and local surcharge where applicable.\\nInsurance Information\\nNamed Insured: Zohreh Motemanni Kenari\\nNaser Mirzaei Mehmandoust SoflaPolicy Number: H41-291-976249-75  4 6\\nMailing Address: 351 N Post Oak Ln 712\\nHouston TX 77024-5953Policy Period: 06/25/2024 -06/25/2025  12:01 a.m.\\nstandard time at the  address of the\\nNamed Insured at Insured Location.\\nInsured Location: Same as Mailing address above Declarations Effective: 06/25/2024\\nDISCOUNTS AND BENEFITS SECTION\\nYour discounts and benefits have been applied to your total policy premium.\\n•\\n•Claims Free Discount\\nEarly Quote Discount\\n•\\n•Online Purchase Discount\\nPreferred Payment Discount\\nCoverage Information\\nStandard Policy  \\nSECTION I COVERAGES LIMITS PREMIUM\\nC. Personal Property       5,000\\n     1,000 D. Loss of Use of Insured Location $$\\nSECTION II COVERAGES LIMITS PREMIUM\\n   100,000\\n     1,000E. Personal Liability (each occurrence) \\nF. Medical Payments to Others (each person) $\\n$\\nPage of   THIS IS NOT YOUR RENTERS  INSURANCE BILL. YOU WILL BE BILLED SEPARATELY.  13 FMHO 3047 05 16\\nPolicy Number: Report a Claim: Want to Add a Coverage?\\n1-800-2CLAIMS or\\nLibertyMutual.com/ClaimsCall  to talk to your agent\\nabout the availability of this\\ncoverage and whether it meets\\nyour needs.H41-291-976249-75  4 6\\nCoverage Information continued\\nPOLICY DEDUCTIBLES - SECTION I\\nLosses covered under Section I are subject to a deductible of : $500\\n$    116 Total Standard Policy  \\nADDITIONAL COVERAGES DEDUCTIBLE LIMITS PREMIUM\\nPERSONAL PROPERTY REPLACEMENT COST      0 $\\nTotal 12 Month Policy Premium: $116.00\\nChange Detail\\nChanges made to your policy for: Policy Change 1\\n• • Change Name Zohreh Motemanni Kenari Add Inflation Protection\\n•Change Scheduled Property Territory\\nThere is no premium increase for above changes.\\nPolicy Forms and Endorsements: The following forms and endorsements are applicable to your policy\\nRenters Policy  (LMHO 2004 12 17 ) Amendatory Endorsement - Payment of Premium\\n(LMHO 2306 02 23 )\\nSpecial Provisions - Texas  (LMHO2100TX 0119 ) Personal Property Replacement Cost\\n(LMHO 2300 12 17 )\\nImportant Messages  \\nFlood Insurance:  Your Homeowners policy does not  provide coverage for damage caused by flood, even if the\\nflood is caused by a storm surge. Liberty Mutual can help you obtain this coverage through the Federal\\nEmergency Management Agency (FEMA) if your community participates in the National Flood Insurance\\nProgram. Please call your representative for more information.\\nPage of   THIS IS NOT YOUR RENTERS  INSURANCE BILL. YOU WILL BE BILLED SEPARATELY.  23 FMHO 3047 05 16\\nQuestions about your Policy? Report a Claim: Policy Number:\\n1-800-2CLAIMS or\\nLibertyMutual.com/ClaimsCall H41-291-976249-75  4 6\\nRenters Policy  Declarations provided and underwritten by Liberty Mutual Insurance Company (a stock insurance\\ncompany) , Boston, MA.\\nPresidentTimothy M. Sweeney\\nSecretaryDamon Hart\\nAuthorized RepresentativeParker KoppelmanThis policy, including endorsements listed above,\\nis countersigned by:\\nPage of   THIS IS NOT YOUR RENTERS  INSURANCE BILL. YOU WILL BE BILLED SEPARATELY.  33 FMHO 3047 05 16\\nH000TM2 06 21 Page 1 of 728 TAC Section 5.9971(b)\\nCONSUMER BILL OF RIGHTS\\nHomeowners, Dwelling, and Renters Insurance\\nWhat is the Bill of Rights?\\nIt is a basic outline of important rights you have under Texas law. Insurance companies must give you this\\nBill of Rights with your policy. It is important to read and understand your policy.\\nThe Bill of Rights is not:\\nA complete list of all your rights,\\nPart of your policy, or\\nA list of everything that you are responsible for.\\nQuestions about these rights?\\nIf you are not sure about anything in your policy, ask your agent or insurance company.\\nIf you have questions or a complaint, contact the Texas Department of Insurance (TDI) at:\\nPhone: 1-800-252-3439\\nEmail: ConsumerProtection@tdi.texas.gov\\nWebsite:  www.tdi.texas.gov/consumer\\nMail: Consumer Protection MC 111-1A\\nP.O. Box 149091\\nAustin, TX 78714-9101\\nTo learn more about insurance, visit www.opic.texas.gov  or call the Office of Public Insurance\\nCounsel (OPIC) at 1-877-611-6742.\\nAVISO: Este documento es un resumen de sus derechos como asegurado. Tiene derecho a llamar a su\\ncompañía de seguros y obtener una copia de estos derechos en español. Además, puede ser que su\\ncompañía de seguros tenga disponible una versión de su póliza en español.\\nTable of Contents\\nWhere to Get Information ............................................................................................. 3\\n1.   Your insurance company .............................................................................................................................. 3\\n2.   Your declarations page ................................................................................................................................. 3\\n3.   The Texas Department of Insurance (TDI) ............................................................................................. 3\\n4.   Resources for shopping for insurance ......................................................................................................\\n3 What You Should Know When You File a Claim ..............................................3\\n5.   Deadlines for processing claims and payments ....................................................................................... 3\\n6.   Written explanation of claim denial .......................................................................................................... 3\\n7.   Reasonable investigation ........................................................................................................................... 3\\n8.   Information not required for processing your claim ............................................................................. 4\\n9.   Release of claim payments from lenders ................................................................................................. 4\\n10. Notice of liability claim settlement ........................................................................................................... 4\\nWho to Contact for Claim Disagreements ............................................................. 4\\n11. Claim disagreements .................................................................................................................................... 4\\nWhat You Should Know about Renewal, Cancellation, and Nonrenewal .....4\\n12. Notice of premium increase ........................................................................................................................ 4\\n13. Insurance company cancellation of homeowners policies ................................................................... 5\\n14. Insurance company cancellation of other residential property policies ............................................ 5\\n15. Notice of cancellation ................................................................................................................................... 5\\n16. Your right to cancel ...................................................................................................................................... 5\\n17. Refund of premium ...................................................................................................................................... 5\\n18. Limits on using claims history for nonrenewal ...................................................................................... 5\\n19. Limits on using claims history to increase premium ............................................................................ 6\\n20. Right to ask questions ................................................................................................................................... 6\\n21. Limit on using credit information to nonrenew your policy .............................................................. 6\\n22. Protections from discrimination ............................................................................................................... 6\\n23. Protection for low-value property .............................................................................................................. 7\\n24. Protection for older houses ......................................................................................................................... 7\\n25. Notice of nonrenewal .................................................................................................................................. 7\\n26. Notice of a “material change” to your policy ...................................................................................... 7\\n27. Written explanation of cancellation or nonrenewal ............................................................................... 7\\nH000TM2 06 21 Page 2 of 7\\nH000TM2 06 21 Page 3 of 7Where to Get Information\\n1.Your insurance company . When you get a copy of your policy you will also get an \"Important Notice\"\\nfrom the company. The notice explains how to contact your company and how to file a complaint. You\\nmay request a complete copy of your policy from your company at any time.\\n2.Your declarations page. The declarations page, also called the \"dec page,\" shows: (a) the name and\\naddress of your insurance company, (b) the location of the insured property, (c) the dates your policy is\\nin effect, and (d) the amounts and types of coverage.\\nYour company must list the exact dollar amount of each deductible in your policy. The declarations\\npage, or a separate page, must also list any part of your policy that changes any deductible amount.\\n3.The Texas Department of Insurance (TDI). You have the right to call TDI for free at 1-800-252-3439\\nfor information and help with a complaint against an insurer. You can also find information on the TDI\\nwebsite at www.tdi.texas.gov .\\n4.Resources for shopping for insurance . The Office of Public Insurance Counsel (OPIC) and TDI\\ndeveloped www.HelpInsure.com  to help you compare rates and coverages for different insurance\\ncompanies. OPIC also has an online tool to help you compare policies. You can find this policy\\ncomparison tool at www.opic.texas.gov .\\nWhat You Should Know When You File a Claim\\n5.Deadlines for processing claims and payments . You should file your claim with your insurance\\ncompany as soon as possible. When you file a claim on your own policy, the insurance company must\\nmeet these deadlines:\\nWithin 15 days after you file a claim: The company must let you know they received your\\nclaim. The company must also start their investigation and ask you for any other information\\nthey need.\\nWithin 15 business days after they get all the information they need: The company must\\napprove or deny your claim in writing. They can extend this deadline up to 45 days from the\\ndate they: (a) let you know they need more time and (b) tell you why.\\nWithin 5 business days after they let you know your claim is approved : The company must\\npay the claim.\\nNote: TDI can extend these deadlines by 15 more days if there is a weather-related catastrophe.\\nIf your company fails to meet these deadlines, you may be able to collect the claim amount, interest, and\\nattorney’s fees.\\n6.Written explanation of claim denial. Your insurance company must tell you in writing why your claim\\nor part of your claim was denied.\\n7.Reasonable investigation . Your insurance company cannot refuse to pay your claim without a\\nreasonable  investigation of the claim. You should keep records of all claim communications (including\\nnotes from phone calls) and other claim documentation (including damage estimates and receipts).\\nH000TM2 06 21 Page 4 of 78.Information not required for processing your claim. Your insurance company can only ask for\\ninformation reasonably needed for their claim investigation. However, they cannot ask for your federal\\nincome tax returns unless: (a) they get a court order or (b) your claim involves a fire loss, loss of profits,\\nor lost income.\\n9.Release of claim payments from lenders. Often an insurance company will make a claim payment to\\nyou and your lender. If your lender gets the payment:\\nNo later than 10 days after receiving it they must: (a) notify you and (b) tell you what you\\nmust do so the money can be released.\\nNo later than 10 days after you ask for the money, they must: (a) send the money to you, or\\n(b) tell you how to get the money released.\\nIf your lender does not: (a) provide the notices mentioned above or (b) pay the money after all the\\nrequirements have been met, the lender must pay you interest on the money.\\n10.Notice of liability claim settlement . Liability means you are responsible for other people’s injuries or\\ndamage to their property. Your insurance company must let you know in writing:\\nAbout the first offer to settle a claim against you within 10 days after the offer is made.\\nAbout any claim settled against you within 30 days after the date of the settlement.\\nWho to Contact for Claim Disagreements\\n11.Claim disagreements . You can dispute the amount of your claim payment or what is covered under\\nyour policy. You can:\\nContact your insurance company.\\nContact an attorney to advise you of your rights under the law. The State Bar of Texas can help\\nyou find an attorney.\\nPay a licensed public adjuster to review the damage and handle the claim.\\nFile a complaint with TDI.\\nWhat You Should Know about Renewal, Cancellation and Nonrenewal\\nRenewal means that your insurance company is extending your policy for another term.\\nCancellation  means that, before the end of the policy period,   the insurance company:\\nTerminates the policy;\\nGives you less coverage or limits your coverage; or\\nRefuses to give additional coverage that you are entitled to under the policy.\\n\"Refusal to renew\" and \"nonrenewal \" are terms that mean your coverage ends at the end of the policy\\nperiod. The policy period is shown on the declarations page of your policy.\\n12.Notice of premium increase. If your insurance company plans to increase your premium by 10 percent\\nor more on renewal, your company must send you notice of the rate increase at least 30 days before\\nyour renewal date.\\nH000TM2 06 21 Page 5 of 713.Insurance company cancellation of homeowners policies. If your homeowners policy has been in\\neffect for 60 days or more,  your company can only cancel your policy if:\\nYou don’t pay your premium when it is due;\\nYou file a fraudulent claim;\\nThere is an increase in the risk covered by the policy that is: (a) within your control and (b)\\nwould make your premium go up; or\\nTDI decides that keeping the policy violates the law.\\nIf your policy has been in effect for less than 60 days,  your company can only cancel your policy if:\\nOne of the reasons listed above applies;\\nThey reject a required inspection report within 10 days after getting the report. The report must\\nbe done by a licensed or authorized inspector and cannot be more than 90 days old; or\\nThey find something that creates an increase in risk that you did not include in your application\\nand is not related to a prior claim.\\n14.Insurance company cancellation of other residential property policies. After your policy has been in\\neffect for 90 days, your company can only cancel your policy if:\\nYou don’t pay your premium when it is due;\\nYou file a fraudulent claim;\\nThere is an increase in the risk covered by the policy that is: (a) within your control and (b)\\nwould make your premium go up; or\\nTDI decides that keeping the policy violates the law.\\n15.Notice of cancellation . If your insurance company cancels your policy, they must let you know by mail\\nat least 10 days before the effective date of the cancellation. Check your policy because your company\\nmay give you more than 10 days\\' notice.\\n16.Your right to cancel.  You can cancel your policy at any time and get a refund of the unused premium.\\n17.Refund of premium . If you or your insurance company cancel your policy before it ends, the company\\nmust refund any unused premium.\\nIf the company cancels, they have 15 business days  from the day they cancel your policy.\\nIf you ask to cancel your policy, the company has 15 business days from the day you want the\\npolicy to end.\\nYou must let your company know you want the refund sent to you. If not, they may refund the\\nremaining premium by giving you a premium credit on the same policy.\\n18.Limits on using claims history for nonrenewal . Your insurance company cannot refuse to renew your\\npolicy based on claims for damage from natural causes, including weather-related damage; or claims that\\nare filed but not paid or payable under the policy.\\nAppliance-related water damage claims. Your insurance company cannot refuse to renew your policy\\nbased on an appliance-related water damage claim if:\\nThe damage has been properly repaired or remediated; and\\nThe repair or remediation was inspected and certified.\\nH000TM2 06 21 Page 6 of 7However, your insurance company may refuse to renew your policy based on appliance-related\\nwater damage claims if:\\nThree or more claims were filed and paid (including a claim filed by a prior owner on your\\nproperty); or\\nYou: (a) file 2 claims within a three-year period; and (b) after the second claim, your company\\ngives you written notice that filing a third appliance-related claim could result in your policy not\\nbeing renewed; and\\nYou file a third claim.\\nClaims other than appliance-related water damage claims. Your insurance company cannot refuse to\\nrenew your policy based on other claims unless:\\nYou: (a) file 2 claims within a three-year period; and (b) after the second claim, your company\\ngives you written notice that filing a third claim could result in your policy not being renewed;\\nand\\nYou file a third claim.\\n19.Limits on using claims history to increase premium . Your insurance company cannot increase your\\npremium based on claims for damage from natural causes, including weather-related damage; or claims\\nthat are filed but not paid or payable under your policy.\\nAppliance-related water damage claims. Your company cannot increase your premium based on a\\nprior appliance-related water damage claim if:\\nThe damage has been properly repaired or remediated; and\\nThe repair or remediation was inspected and certified.\\nHowever, your insurance company may increase your premium based on prior appliance-related\\nwater damage claims if :\\nThree or more claims were filed and paid (including a claim filed by a prior owner on your\\nproperty)\\nClaims other than appliance-related water damage claims. Your insurance company cannot increase\\nyour premium based on other claims unless:\\nYou file 2 or more claims within a three-year period.\\n20.Right to ask questions . You can ask your insurance company a question about your policy. They\\ncannot use your questions to deny, nonrenew, or cancel your coverage. Your questions also cannot be\\nused to determine your premium.\\nFor example, you may ask:\\nGeneral questions about your policy;\\nQuestions about the company’s claims filing process; and\\nQuestions about whether the policy will cover a loss, unless the question is about damage: (a)\\nthat occurred and (b) that results in an investigation or claim.\\n21.Limit on using credit information to nonrenew your policy. An insurance company cannot refuse to\\nrenew your policy solely because of your credit.\\n22.Protections from discrimination. An insurance company cannot refuse to insure you; limit the \\nH000TM2 06 21 Page 7 of 7coverage you buy; refuse to renew your policy; or charge you a different rate based on your race, color,\\ncreed, country of origin, or religion.\\n23.Protection for low-value property. An insurance company cannot refuse to renew your policy because\\nthe property value is low.\\n24.Protection for older houses. An insurance company cannot refuse to renew your policy based on the\\nage of your property. However, they can refuse to renew your policy based on the condition of your\\nproperty, including your plumbing, heating, air conditioning, wiring, or roof.\\n25.Notice of nonrenewal . Your insurance company must send you a notice that they are not renewing your\\npolicy. They must let you know at least 30 days before your policy expires, or you can require them to\\nrenew your policy.\\n26.Notice of a \"material change\" to your policy. If your insurance company does not want to cancel or\\nnonrenew your policy, but wants to make certain material changes, then they must explain the changes\\nin writing at least 30 days before the renewal date. Material changes include:\\nGiving you less coverage;\\nChanging a condition of coverage; or\\nChanging what you are required to do.\\nInstead of a notice of \"material change\" a company may choose to not renew your existing policy. If so,\\nthe company has to send a nonrenewal letter, but may still offer you a different policy.\\nNote: A company cannot reduce coverage during the policy period unless you ask for the change. If you\\nask for the change, the company does not have to send you a notice.\\n27.Written explanation of cancellation or nonrenewal . You can ask your insurance company to tell you\\nin writing the reasons for their decision to cancel or not renew your policy. The company must explain\\nin detail why they cancelled or nonrenewed your policy.\\n'"
      ]
     },
     "execution_count": 34,
     "metadata": {},
     "output_type": "execute_result"
    }
   ],
   "source": [
    "policy_text"
   ]
  },
  {
   "cell_type": "code",
   "execution_count": 35,
   "metadata": {},
   "outputs": [],
   "source": [
    "### Step 2: Split Text into Chunks"
   ]
  },
  {
   "cell_type": "code",
   "execution_count": 45,
   "metadata": {},
   "outputs": [
    {
     "name": "stderr",
     "output_type": "stream",
     "text": [
      "[nltk_data] Downloading package punkt to\n",
      "[nltk_data]     /Users/monahaghighi/nltk_data...\n",
      "[nltk_data]   Package punkt is already up-to-date!\n"
     ]
    },
    {
     "data": {
      "text/plain": [
       "True"
      ]
     },
     "execution_count": 45,
     "metadata": {},
     "output_type": "execute_result"
    }
   ],
   "source": [
    "import nltk\n",
    "\n",
    "# Add your preferred path where nltk should download the data\n",
    "nltk.data.path.append('/Users/monahaghighi/nltk_data')\n",
    "\n",
    "# Force download the punkt resource\n",
    "nltk.download('punkt')"
   ]
  },
  {
   "cell_type": "code",
   "execution_count": 46,
   "metadata": {},
   "outputs": [
    {
     "name": "stdout",
     "output_type": "stream",
     "text": [
      "Punkt available: True\n"
     ]
    }
   ],
   "source": [
    "import os\n",
    "punkt_path = '/Users/monahaghighi/nltk_data/tokenizers/punkt'\n",
    "print(\"Punkt available:\", os.path.exists(punkt_path))"
   ]
  },
  {
   "cell_type": "code",
   "execution_count": 47,
   "metadata": {},
   "outputs": [],
   "source": [
    "from nltk.tokenize.punkt import PunktSentenceTokenizer, PunktTrainer\n",
    "\n",
    "# Load the English tokenizer manually\n",
    "english_tokenizer = PunktSentenceTokenizer()\n",
    "\n",
    "# Now use it to tokenize your policy text\n",
    "sentences = english_tokenizer.tokenize(policy_text)"
   ]
  },
  {
   "cell_type": "code",
   "execution_count": 48,
   "metadata": {},
   "outputs": [
    {
     "data": {
      "text/plain": [
       "'CONTINUE TO THE NEXT PAGE\\nFOR A GUIDE TO YOUR\\nRENTERS ENDORSEMENT\\nPACKET40000007H4129197624975000000*000001*\\nLiberty Mutual\\nPO Box 958416\\nLake Mary, FL 32795-9959\\nZohreh Motemanni Kenari\\nNaser Mirzaei Mehmandoust Sofla\\n351 N Post Oak Ln 712\\nHouston TX 77024-5953\\nCONTACT US\\nQuestions About\\nYour Policy\\nBy Phone\\nFor service:\\nMon - Fri 8AM-10PM EST\\nSat 8AM-8PM EST\\nSun 11AM-5PM EST\\nVisit Us Online\\nLibertyMutual.com\\nBy Phone\\n1-800-2CLAIMS\\n(1-800-225-2467)To Report a Claim\\nOnline\\nLibertyMutual.com/Claims\\nSign Up for eService\\nLibertyMutual.com/\\nregister-Pay your bill\\n-Go paperless\\n-View your policy\\n-File or view a claim\\nManage your policy 24/7 atThank you for insuring with Liberty Mutual.'"
      ]
     },
     "execution_count": 48,
     "metadata": {},
     "output_type": "execute_result"
    }
   ],
   "source": [
    "sentences[0]"
   ]
  },
  {
   "cell_type": "code",
   "execution_count": 50,
   "metadata": {},
   "outputs": [],
   "source": [
    "# Combine sentences into chunks (e.g., 5 sentences per chunk)\n",
    "def create_chunks(sentences, chunk_size=5):\n",
    "    chunks = []\n",
    "    for i in range(0, len(sentences), chunk_size):\n",
    "        chunk = ' '.join(sentences[i:i+chunk_size])\n",
    "        chunks.append(chunk)\n",
    "    return chunks\n",
    "\n",
    "chunks = create_chunks(sentences)"
   ]
  },
  {
   "cell_type": "code",
   "execution_count": 51,
   "metadata": {},
   "outputs": [
    {
     "data": {
      "text/plain": [
       "38"
      ]
     },
     "execution_count": 51,
     "metadata": {},
     "output_type": "execute_result"
    }
   ],
   "source": [
    "len(chunks)"
   ]
  },
  {
   "cell_type": "code",
   "execution_count": 52,
   "metadata": {},
   "outputs": [],
   "source": [
    "import openai\n",
    "import os\n",
    "\n",
    "# Set your OpenAI API key\n",
    "openai.api_key = os.getenv('OPENAI_API_KEY')  # Make sure to set your API key in the environment"
   ]
  },
  {
   "cell_type": "code",
   "execution_count": 53,
   "metadata": {},
   "outputs": [],
   "source": [
    "openai.api_key"
   ]
  },
  {
   "cell_type": "code",
   "execution_count": 56,
   "metadata": {},
   "outputs": [
    {
     "name": "stdout",
     "output_type": "stream",
     "text": [
      "Collecting openai==0.28\n",
      "  Downloading openai-0.28.0-py3-none-any.whl.metadata (13 kB)\n",
      "Requirement already satisfied: requests>=2.20 in /Users/monahaghighi/.local/share/virtualenvs/llm_final_project-WhKreUth/lib/python3.9/site-packages (from openai==0.28) (2.32.3)\n",
      "Requirement already satisfied: tqdm in /Users/monahaghighi/.local/share/virtualenvs/llm_final_project-WhKreUth/lib/python3.9/site-packages (from openai==0.28) (4.66.5)\n",
      "Collecting aiohttp (from openai==0.28)\n",
      "  Downloading aiohttp-3.10.8-cp39-cp39-macosx_11_0_arm64.whl.metadata (7.6 kB)\n",
      "Requirement already satisfied: charset-normalizer<4,>=2 in /Users/monahaghighi/.local/share/virtualenvs/llm_final_project-WhKreUth/lib/python3.9/site-packages (from requests>=2.20->openai==0.28) (3.3.2)\n",
      "Requirement already satisfied: idna<4,>=2.5 in /Users/monahaghighi/.local/share/virtualenvs/llm_final_project-WhKreUth/lib/python3.9/site-packages (from requests>=2.20->openai==0.28) (3.10)\n",
      "Requirement already satisfied: urllib3<3,>=1.21.1 in /Users/monahaghighi/.local/share/virtualenvs/llm_final_project-WhKreUth/lib/python3.9/site-packages (from requests>=2.20->openai==0.28) (2.2.3)\n",
      "Requirement already satisfied: certifi>=2017.4.17 in /Users/monahaghighi/.local/share/virtualenvs/llm_final_project-WhKreUth/lib/python3.9/site-packages (from requests>=2.20->openai==0.28) (2024.8.30)\n",
      "Collecting aiohappyeyeballs>=2.3.0 (from aiohttp->openai==0.28)\n",
      "  Downloading aiohappyeyeballs-2.4.3-py3-none-any.whl.metadata (6.1 kB)\n",
      "Collecting aiosignal>=1.1.2 (from aiohttp->openai==0.28)\n",
      "  Downloading aiosignal-1.3.1-py3-none-any.whl.metadata (4.0 kB)\n",
      "Requirement already satisfied: attrs>=17.3.0 in /Users/monahaghighi/.local/share/virtualenvs/llm_final_project-WhKreUth/lib/python3.9/site-packages (from aiohttp->openai==0.28) (24.2.0)\n",
      "Collecting frozenlist>=1.1.1 (from aiohttp->openai==0.28)\n",
      "  Downloading frozenlist-1.4.1-cp39-cp39-macosx_11_0_arm64.whl.metadata (12 kB)\n",
      "Collecting multidict<7.0,>=4.5 (from aiohttp->openai==0.28)\n",
      "  Downloading multidict-6.1.0-cp39-cp39-macosx_11_0_arm64.whl.metadata (5.0 kB)\n",
      "Collecting yarl<2.0,>=1.12.0 (from aiohttp->openai==0.28)\n",
      "  Downloading yarl-1.13.1-cp39-cp39-macosx_11_0_arm64.whl.metadata (50 kB)\n",
      "Collecting async-timeout<5.0,>=4.0 (from aiohttp->openai==0.28)\n",
      "  Downloading async_timeout-4.0.3-py3-none-any.whl.metadata (4.2 kB)\n",
      "Requirement already satisfied: typing-extensions>=4.1.0 in /Users/monahaghighi/.local/share/virtualenvs/llm_final_project-WhKreUth/lib/python3.9/site-packages (from multidict<7.0,>=4.5->aiohttp->openai==0.28) (4.12.2)\n",
      "Downloading openai-0.28.0-py3-none-any.whl (76 kB)\n",
      "Downloading aiohttp-3.10.8-cp39-cp39-macosx_11_0_arm64.whl (391 kB)\n",
      "Downloading aiohappyeyeballs-2.4.3-py3-none-any.whl (14 kB)\n",
      "Downloading aiosignal-1.3.1-py3-none-any.whl (7.6 kB)\n",
      "Downloading async_timeout-4.0.3-py3-none-any.whl (5.7 kB)\n",
      "Downloading frozenlist-1.4.1-cp39-cp39-macosx_11_0_arm64.whl (53 kB)\n",
      "Downloading multidict-6.1.0-cp39-cp39-macosx_11_0_arm64.whl (29 kB)\n",
      "Downloading yarl-1.13.1-cp39-cp39-macosx_11_0_arm64.whl (115 kB)\n",
      "Installing collected packages: multidict, frozenlist, async-timeout, aiohappyeyeballs, yarl, aiosignal, aiohttp, openai\n",
      "  Attempting uninstall: openai\n",
      "    Found existing installation: openai 1.50.2\n",
      "    Uninstalling openai-1.50.2:\n",
      "      Successfully uninstalled openai-1.50.2\n",
      "Successfully installed aiohappyeyeballs-2.4.3 aiohttp-3.10.8 aiosignal-1.3.1 async-timeout-4.0.3 frozenlist-1.4.1 multidict-6.1.0 openai-0.28.0 yarl-1.13.1\n"
     ]
    }
   ],
   "source": [
    "!pip install openai==0.28"
   ]
  },
  {
   "cell_type": "code",
   "execution_count": 58,
   "metadata": {},
   "outputs": [],
   "source": [
    "import openai"
   ]
  },
  {
   "cell_type": "code",
   "execution_count": 60,
   "metadata": {},
   "outputs": [
    {
     "ename": "APIRemovedInV1",
     "evalue": "\n\nYou tried to access openai.Embedding, but this is no longer supported in openai>=1.0.0 - see the README at https://github.com/openai/openai-python for the API.\n\nYou can run `openai migrate` to automatically upgrade your codebase to use the 1.0.0 interface. \n\nAlternatively, you can pin your installation to the old version, e.g. `pip install openai==0.28`\n\nA detailed migration guide is available here: https://github.com/openai/openai-python/discussions/742\n",
     "output_type": "error",
     "traceback": [
      "\u001b[0;31m---------------------------------------------------------------------------\u001b[0m",
      "\u001b[0;31mAPIRemovedInV1\u001b[0m                            Traceback (most recent call last)",
      "Cell \u001b[0;32mIn[60], line 11\u001b[0m\n\u001b[1;32m      9\u001b[0m chunk_embeddings \u001b[38;5;241m=\u001b[39m []\n\u001b[1;32m     10\u001b[0m \u001b[38;5;28;01mfor\u001b[39;00m chunk \u001b[38;5;129;01min\u001b[39;00m chunks:\n\u001b[0;32m---> 11\u001b[0m     embedding \u001b[38;5;241m=\u001b[39m \u001b[43mget_embedding\u001b[49m\u001b[43m(\u001b[49m\u001b[43mchunk\u001b[49m\u001b[43m)\u001b[49m\n\u001b[1;32m     12\u001b[0m     chunk_embeddings\u001b[38;5;241m.\u001b[39mappend({\u001b[38;5;124m'\u001b[39m\u001b[38;5;124mchunk\u001b[39m\u001b[38;5;124m'\u001b[39m: chunk, \u001b[38;5;124m'\u001b[39m\u001b[38;5;124membedding\u001b[39m\u001b[38;5;124m'\u001b[39m: embedding})\n",
      "Cell \u001b[0;32mIn[60], line 2\u001b[0m, in \u001b[0;36mget_embedding\u001b[0;34m(text, model)\u001b[0m\n\u001b[1;32m      1\u001b[0m \u001b[38;5;28;01mdef\u001b[39;00m \u001b[38;5;21mget_embedding\u001b[39m(text, model\u001b[38;5;241m=\u001b[39m\u001b[38;5;124m\"\u001b[39m\u001b[38;5;124mtext-embedding-ada-002\u001b[39m\u001b[38;5;124m\"\u001b[39m):\n\u001b[0;32m----> 2\u001b[0m     response \u001b[38;5;241m=\u001b[39m \u001b[43mopenai\u001b[49m\u001b[38;5;241;43m.\u001b[39;49m\u001b[43mEmbedding\u001b[49m\u001b[38;5;241;43m.\u001b[39;49m\u001b[43mcreate\u001b[49m\u001b[43m(\u001b[49m\n\u001b[1;32m      3\u001b[0m \u001b[43m        \u001b[49m\u001b[38;5;28;43minput\u001b[39;49m\u001b[38;5;241;43m=\u001b[39;49m\u001b[43mtext\u001b[49m\u001b[43m,\u001b[49m\n\u001b[1;32m      4\u001b[0m \u001b[43m        \u001b[49m\u001b[43mmodel\u001b[49m\u001b[38;5;241;43m=\u001b[39;49m\u001b[43mmodel\u001b[49m\n\u001b[1;32m      5\u001b[0m \u001b[43m    \u001b[49m\u001b[43m)\u001b[49m\n\u001b[1;32m      6\u001b[0m     \u001b[38;5;28;01mreturn\u001b[39;00m response[\u001b[38;5;124m'\u001b[39m\u001b[38;5;124mdata\u001b[39m\u001b[38;5;124m'\u001b[39m][\u001b[38;5;241m0\u001b[39m][\u001b[38;5;124m'\u001b[39m\u001b[38;5;124membedding\u001b[39m\u001b[38;5;124m'\u001b[39m]\n",
      "File \u001b[0;32m~/.local/share/virtualenvs/llm_final_project-WhKreUth/lib/python3.9/site-packages/openai/lib/_old_api.py:39\u001b[0m, in \u001b[0;36mAPIRemovedInV1Proxy.__call__\u001b[0;34m(self, *_args, **_kwargs)\u001b[0m\n\u001b[1;32m     38\u001b[0m \u001b[38;5;28;01mdef\u001b[39;00m \u001b[38;5;21m__call__\u001b[39m(\u001b[38;5;28mself\u001b[39m, \u001b[38;5;241m*\u001b[39m_args: Any, \u001b[38;5;241m*\u001b[39m\u001b[38;5;241m*\u001b[39m_kwargs: Any) \u001b[38;5;241m-\u001b[39m\u001b[38;5;241m>\u001b[39m Any:\n\u001b[0;32m---> 39\u001b[0m     \u001b[38;5;28;01mraise\u001b[39;00m APIRemovedInV1(symbol\u001b[38;5;241m=\u001b[39m\u001b[38;5;28mself\u001b[39m\u001b[38;5;241m.\u001b[39m_symbol)\n",
      "\u001b[0;31mAPIRemovedInV1\u001b[0m: \n\nYou tried to access openai.Embedding, but this is no longer supported in openai>=1.0.0 - see the README at https://github.com/openai/openai-python for the API.\n\nYou can run `openai migrate` to automatically upgrade your codebase to use the 1.0.0 interface. \n\nAlternatively, you can pin your installation to the old version, e.g. `pip install openai==0.28`\n\nA detailed migration guide is available here: https://github.com/openai/openai-python/discussions/742\n"
     ]
    }
   ],
   "source": [
    "def get_embedding(text, model=\"text-embedding-ada-002\"):\n",
    "    response = openai.Embedding.create(\n",
    "        input=text,\n",
    "        model=model\n",
    "    )\n",
    "    return response['data'][0]['embedding']\n",
    "\n",
    "# Generate embeddings for all chunks\n",
    "chunk_embeddings = []\n",
    "for chunk in chunks:\n",
    "    embedding = get_embedding(chunk)\n",
    "    chunk_embeddings.append({'chunk': chunk, 'embedding': embedding})\n"
   ]
  },
  {
   "cell_type": "code",
   "execution_count": 62,
   "metadata": {},
   "outputs": [
    {
     "name": "stdout",
     "output_type": "stream",
     "text": [
      "Collecting transformers\n",
      "  Downloading transformers-4.45.1-py3-none-any.whl.metadata (44 kB)\n",
      "Collecting filelock (from transformers)\n",
      "  Downloading filelock-3.16.1-py3-none-any.whl.metadata (2.9 kB)\n",
      "Collecting huggingface-hub<1.0,>=0.23.2 (from transformers)\n",
      "  Downloading huggingface_hub-0.25.1-py3-none-any.whl.metadata (13 kB)\n",
      "Requirement already satisfied: numpy>=1.17 in /Users/monahaghighi/.local/share/virtualenvs/llm_final_project-WhKreUth/lib/python3.9/site-packages (from transformers) (2.0.2)\n",
      "Requirement already satisfied: packaging>=20.0 in /Users/monahaghighi/.local/share/virtualenvs/llm_final_project-WhKreUth/lib/python3.9/site-packages (from transformers) (24.1)\n",
      "Requirement already satisfied: pyyaml>=5.1 in /Users/monahaghighi/.local/share/virtualenvs/llm_final_project-WhKreUth/lib/python3.9/site-packages (from transformers) (6.0.2)\n",
      "Requirement already satisfied: regex!=2019.12.17 in /Users/monahaghighi/.local/share/virtualenvs/llm_final_project-WhKreUth/lib/python3.9/site-packages (from transformers) (2024.9.11)\n",
      "Requirement already satisfied: requests in /Users/monahaghighi/.local/share/virtualenvs/llm_final_project-WhKreUth/lib/python3.9/site-packages (from transformers) (2.32.3)\n",
      "Collecting safetensors>=0.4.1 (from transformers)\n",
      "  Downloading safetensors-0.4.5-cp39-cp39-macosx_11_0_arm64.whl.metadata (3.8 kB)\n",
      "Collecting tokenizers<0.21,>=0.20 (from transformers)\n",
      "  Downloading tokenizers-0.20.0-cp39-cp39-macosx_11_0_arm64.whl.metadata (6.7 kB)\n",
      "Requirement already satisfied: tqdm>=4.27 in /Users/monahaghighi/.local/share/virtualenvs/llm_final_project-WhKreUth/lib/python3.9/site-packages (from transformers) (4.66.5)\n",
      "Collecting fsspec>=2023.5.0 (from huggingface-hub<1.0,>=0.23.2->transformers)\n",
      "  Downloading fsspec-2024.9.0-py3-none-any.whl.metadata (11 kB)\n",
      "Requirement already satisfied: typing-extensions>=3.7.4.3 in /Users/monahaghighi/.local/share/virtualenvs/llm_final_project-WhKreUth/lib/python3.9/site-packages (from huggingface-hub<1.0,>=0.23.2->transformers) (4.12.2)\n",
      "Requirement already satisfied: charset-normalizer<4,>=2 in /Users/monahaghighi/.local/share/virtualenvs/llm_final_project-WhKreUth/lib/python3.9/site-packages (from requests->transformers) (3.3.2)\n",
      "Requirement already satisfied: idna<4,>=2.5 in /Users/monahaghighi/.local/share/virtualenvs/llm_final_project-WhKreUth/lib/python3.9/site-packages (from requests->transformers) (3.10)\n",
      "Requirement already satisfied: urllib3<3,>=1.21.1 in /Users/monahaghighi/.local/share/virtualenvs/llm_final_project-WhKreUth/lib/python3.9/site-packages (from requests->transformers) (2.2.3)\n",
      "Requirement already satisfied: certifi>=2017.4.17 in /Users/monahaghighi/.local/share/virtualenvs/llm_final_project-WhKreUth/lib/python3.9/site-packages (from requests->transformers) (2024.8.30)\n",
      "Downloading transformers-4.45.1-py3-none-any.whl (9.9 MB)\n",
      "\u001b[2K   \u001b[38;2;114;156;31m━━━━━━━━━━━━━━━━━━━━━━━━━━━━━━━━━━━━━━━━\u001b[0m \u001b[32m9.9/9.9 MB\u001b[0m \u001b[31m5.6 MB/s\u001b[0m eta \u001b[36m0:00:00\u001b[0m MB/s\u001b[0m eta \u001b[36m0:00:01\u001b[0m:01\u001b[0m\n",
      "\u001b[?25hDownloading huggingface_hub-0.25.1-py3-none-any.whl (436 kB)\n",
      "Downloading safetensors-0.4.5-cp39-cp39-macosx_11_0_arm64.whl (383 kB)\n",
      "Downloading tokenizers-0.20.0-cp39-cp39-macosx_11_0_arm64.whl (2.5 MB)\n",
      "\u001b[2K   \u001b[38;2;114;156;31m━━━━━━━━━━━━━━━━━━━━━━━━━━━━━━━━━━━━━━━━\u001b[0m \u001b[32m2.5/2.5 MB\u001b[0m \u001b[31m4.3 MB/s\u001b[0m eta \u001b[36m0:00:00\u001b[0m MB/s\u001b[0m eta \u001b[36m0:00:01\u001b[0m\n",
      "\u001b[?25hDownloading filelock-3.16.1-py3-none-any.whl (16 kB)\n",
      "Downloading fsspec-2024.9.0-py3-none-any.whl (179 kB)\n",
      "Installing collected packages: safetensors, fsspec, filelock, huggingface-hub, tokenizers, transformers\n",
      "Successfully installed filelock-3.16.1 fsspec-2024.9.0 huggingface-hub-0.25.1 safetensors-0.4.5 tokenizers-0.20.0 transformers-4.45.1\n"
     ]
    }
   ],
   "source": [
    "!pip install transformers"
   ]
  },
  {
   "cell_type": "code",
   "execution_count": 63,
   "metadata": {},
   "outputs": [
    {
     "name": "stderr",
     "output_type": "stream",
     "text": [
      "None of PyTorch, TensorFlow >= 2.0, or Flax have been found. Models won't be available and only tokenizers, configuration and file/data utilities can be used.\n"
     ]
    }
   ],
   "source": [
    "from transformers import RagTokenizer, RagSequenceForGeneration"
   ]
  },
  {
   "cell_type": "code",
   "execution_count": null,
   "metadata": {},
   "outputs": [],
   "source": []
  }
 ],
 "metadata": {
  "kernelspec": {
   "display_name": "Python 3 (ipykernel)",
   "language": "python",
   "name": "python3"
  },
  "language_info": {
   "codemirror_mode": {
    "name": "ipython",
    "version": 3
   },
   "file_extension": ".py",
   "mimetype": "text/x-python",
   "name": "python",
   "nbconvert_exporter": "python",
   "pygments_lexer": "ipython3",
   "version": "3.9.19"
  }
 },
 "nbformat": 4,
 "nbformat_minor": 4
}
